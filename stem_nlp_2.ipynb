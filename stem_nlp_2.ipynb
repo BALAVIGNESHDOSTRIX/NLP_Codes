{
  "nbformat": 4,
  "nbformat_minor": 0,
  "metadata": {
    "colab": {
      "name": "stem_nlp_2.ipynb",
      "provenance": []
    },
    "kernelspec": {
      "name": "python3",
      "display_name": "Python 3"
    },
    "language_info": {
      "name": "python"
    }
  },
  "cells": [
    {
      "cell_type": "code",
      "metadata": {
        "id": "2qODPWyvoIXI"
      },
      "source": [
        "from nltk.stem import PorterStemmer\n",
        "from nltk.corpus import stopwords\n",
        "from nltk import sent_tokenize\n",
        "import nltk"
      ],
      "execution_count": null,
      "outputs": []
    },
    {
      "cell_type": "code",
      "metadata": {
        "colab": {
          "base_uri": "https://localhost:8080/"
        },
        "id": "NZCUIjoxpcZg",
        "outputId": "b413b1b1-3c55-4748-9a6b-635ef63f61f2"
      },
      "source": [
        "\n",
        "paragraph = \"\"\"I have three visions for India. In 3000 years of our history, people from all over \n",
        "               the world have come and invaded us, captured our lands, conquered our minds. \n",
        "               From Alexander onwards, the Greeks, the Turks, the Moguls, the Portuguese, the British,\n",
        "               the French, the Dutch, all of them came and looted us, took over what was ours. \n",
        "               Yet we have not done this to any other nation. We have not conquered anyone. \n",
        "               We have not grabbed their land, their culture, \n",
        "               their history and tried to enforce our way of life on them. \n",
        "               Why? Because we respect the freedom of others.That is why my \n",
        "               first vision is that of freedom. I believe that India got its first vision of \n",
        "               this in 1857, when we started the War of Independence. It is this freedom that\n",
        "               we must protect and nurture and build on. If we are not free, no one will respect us.\n",
        "               My second vision for India’s development. For fifty years we have been a developing nation.\n",
        "               It is time we see ourselves as a developed nation. We are among the top 5 nations of the world\n",
        "               in terms of GDP. We have a 10 percent growth rate in most areas. Our poverty levels are falling.\n",
        "               Our achievements are being globally recognised today. Yet we lack the self-confidence to\n",
        "               see ourselves as a developed nation, self-reliant and self-assured. Isn’t this incorrect?\n",
        "               I have a third vision. India must stand up to the world. Because I believe that unless India \n",
        "               stands up to the world, no one will respect us. Only strength respects strength. We must be \n",
        "               strong not only as a military power but also as an economic power. Both must go hand-in-hand. \n",
        "               My good fortune was to have worked with three great minds. Dr. Vikram Sarabhai of the Dept. of \n",
        "               space, Professor Satish Dhawan, who succeeded him and Dr. Brahm Prakash, father of nuclear material.\n",
        "               I was lucky to have worked with all three of them closely and consider this the great opportunity of my life. \n",
        "               I see four milestones in my career\"\"\"\n",
        "\n",
        "nltk.download('punkt')\n",
        "sentences = sent_tokenize(paragraph)"
      ],
      "execution_count": null,
      "outputs": [
        {
          "output_type": "stream",
          "text": [
            "[nltk_data] Downloading package punkt to /root/nltk_data...\n",
            "[nltk_data]   Unzipping tokenizers/punkt.zip.\n"
          ],
          "name": "stdout"
        }
      ]
    },
    {
      "cell_type": "code",
      "metadata": {
        "colab": {
          "base_uri": "https://localhost:8080/"
        },
        "id": "2gi1lasvp44z",
        "outputId": "a4deef2b-8653-48ea-b677-e506be462655"
      },
      "source": [
        "sentences"
      ],
      "execution_count": null,
      "outputs": [
        {
          "output_type": "execute_result",
          "data": {
            "text/plain": [
              "['I have three visions for India.',\n",
              " 'In 3000 years of our history, people from all over \\n               the world have come and invaded us, captured our lands, conquered our minds.',\n",
              " 'From Alexander onwards, the Greeks, the Turks, the Moguls, the Portuguese, the British,\\n               the French, the Dutch, all of them came and looted us, took over what was ours.',\n",
              " 'Yet we have not done this to any other nation.',\n",
              " 'We have not conquered anyone.',\n",
              " 'We have not grabbed their land, their culture, \\n               their history and tried to enforce our way of life on them.',\n",
              " 'Why?',\n",
              " 'Because we respect the freedom of others.That is why my \\n               first vision is that of freedom.',\n",
              " 'I believe that India got its first vision of \\n               this in 1857, when we started the War of Independence.',\n",
              " 'It is this freedom that\\n               we must protect and nurture and build on.',\n",
              " 'If we are not free, no one will respect us.',\n",
              " 'My second vision for India’s development.',\n",
              " 'For fifty years we have been a developing nation.',\n",
              " 'It is time we see ourselves as a developed nation.',\n",
              " 'We are among the top 5 nations of the world\\n               in terms of GDP.',\n",
              " 'We have a 10 percent growth rate in most areas.',\n",
              " 'Our poverty levels are falling.',\n",
              " 'Our achievements are being globally recognised today.',\n",
              " 'Yet we lack the self-confidence to\\n               see ourselves as a developed nation, self-reliant and self-assured.',\n",
              " 'Isn’t this incorrect?',\n",
              " 'I have a third vision.',\n",
              " 'India must stand up to the world.',\n",
              " 'Because I believe that unless India \\n               stands up to the world, no one will respect us.',\n",
              " 'Only strength respects strength.',\n",
              " 'We must be \\n               strong not only as a military power but also as an economic power.',\n",
              " 'Both must go hand-in-hand.',\n",
              " 'My good fortune was to have worked with three great minds.',\n",
              " 'Dr. Vikram Sarabhai of the Dept.',\n",
              " 'of \\n               space, Professor Satish Dhawan, who succeeded him and Dr. Brahm Prakash, father of nuclear material.',\n",
              " 'I was lucky to have worked with all three of them closely and consider this the great opportunity of my life.',\n",
              " 'I see four milestones in my career']"
            ]
          },
          "metadata": {},
          "execution_count": 10
        }
      ]
    },
    {
      "cell_type": "code",
      "metadata": {
        "colab": {
          "base_uri": "https://localhost:8080/"
        },
        "id": "v0Cz-rOWqLP4",
        "outputId": "2a087ebb-c62e-4b73-bf1f-a7d670aea032"
      },
      "source": [
        "split_each_sent_words = [nltk.word_tokenize(sentence) for sentence in sentences]\n",
        "print(split_each_sent_words)"
      ],
      "execution_count": null,
      "outputs": [
        {
          "output_type": "stream",
          "text": [
            "[['I', 'have', 'three', 'visions', 'for', 'India', '.'], ['In', '3000', 'years', 'of', 'our', 'history', ',', 'people', 'from', 'all', 'over', 'the', 'world', 'have', 'come', 'and', 'invaded', 'us', ',', 'captured', 'our', 'lands', ',', 'conquered', 'our', 'minds', '.'], ['From', 'Alexander', 'onwards', ',', 'the', 'Greeks', ',', 'the', 'Turks', ',', 'the', 'Moguls', ',', 'the', 'Portuguese', ',', 'the', 'British', ',', 'the', 'French', ',', 'the', 'Dutch', ',', 'all', 'of', 'them', 'came', 'and', 'looted', 'us', ',', 'took', 'over', 'what', 'was', 'ours', '.'], ['Yet', 'we', 'have', 'not', 'done', 'this', 'to', 'any', 'other', 'nation', '.'], ['We', 'have', 'not', 'conquered', 'anyone', '.'], ['We', 'have', 'not', 'grabbed', 'their', 'land', ',', 'their', 'culture', ',', 'their', 'history', 'and', 'tried', 'to', 'enforce', 'our', 'way', 'of', 'life', 'on', 'them', '.'], ['Why', '?'], ['Because', 'we', 'respect', 'the', 'freedom', 'of', 'others.That', 'is', 'why', 'my', 'first', 'vision', 'is', 'that', 'of', 'freedom', '.'], ['I', 'believe', 'that', 'India', 'got', 'its', 'first', 'vision', 'of', 'this', 'in', '1857', ',', 'when', 'we', 'started', 'the', 'War', 'of', 'Independence', '.'], ['It', 'is', 'this', 'freedom', 'that', 'we', 'must', 'protect', 'and', 'nurture', 'and', 'build', 'on', '.'], ['If', 'we', 'are', 'not', 'free', ',', 'no', 'one', 'will', 'respect', 'us', '.'], ['My', 'second', 'vision', 'for', 'India', '’', 's', 'development', '.'], ['For', 'fifty', 'years', 'we', 'have', 'been', 'a', 'developing', 'nation', '.'], ['It', 'is', 'time', 'we', 'see', 'ourselves', 'as', 'a', 'developed', 'nation', '.'], ['We', 'are', 'among', 'the', 'top', '5', 'nations', 'of', 'the', 'world', 'in', 'terms', 'of', 'GDP', '.'], ['We', 'have', 'a', '10', 'percent', 'growth', 'rate', 'in', 'most', 'areas', '.'], ['Our', 'poverty', 'levels', 'are', 'falling', '.'], ['Our', 'achievements', 'are', 'being', 'globally', 'recognised', 'today', '.'], ['Yet', 'we', 'lack', 'the', 'self-confidence', 'to', 'see', 'ourselves', 'as', 'a', 'developed', 'nation', ',', 'self-reliant', 'and', 'self-assured', '.'], ['Isn', '’', 't', 'this', 'incorrect', '?'], ['I', 'have', 'a', 'third', 'vision', '.'], ['India', 'must', 'stand', 'up', 'to', 'the', 'world', '.'], ['Because', 'I', 'believe', 'that', 'unless', 'India', 'stands', 'up', 'to', 'the', 'world', ',', 'no', 'one', 'will', 'respect', 'us', '.'], ['Only', 'strength', 'respects', 'strength', '.'], ['We', 'must', 'be', 'strong', 'not', 'only', 'as', 'a', 'military', 'power', 'but', 'also', 'as', 'an', 'economic', 'power', '.'], ['Both', 'must', 'go', 'hand-in-hand', '.'], ['My', 'good', 'fortune', 'was', 'to', 'have', 'worked', 'with', 'three', 'great', 'minds', '.'], ['Dr.', 'Vikram', 'Sarabhai', 'of', 'the', 'Dept', '.'], ['of', 'space', ',', 'Professor', 'Satish', 'Dhawan', ',', 'who', 'succeeded', 'him', 'and', 'Dr.', 'Brahm', 'Prakash', ',', 'father', 'of', 'nuclear', 'material', '.'], ['I', 'was', 'lucky', 'to', 'have', 'worked', 'with', 'all', 'three', 'of', 'them', 'closely', 'and', 'consider', 'this', 'the', 'great', 'opportunity', 'of', 'my', 'life', '.'], ['I', 'see', 'four', 'milestones', 'in', 'my', 'career']]\n"
          ],
          "name": "stdout"
        }
      ]
    },
    {
      "cell_type": "code",
      "metadata": {
        "colab": {
          "base_uri": "https://localhost:8080/"
        },
        "id": "xk9aooZlqeOy",
        "outputId": "1e88f373-00f5-41c6-845b-06c98843745a"
      },
      "source": [
        "# Filter the stopwords and apply the stem\n",
        "\n",
        "stemmer = PorterStemmer()\n",
        "\n",
        "removed_stopwords = []\n",
        "\n",
        "stop_words = set(stopwords.words('english'))\n",
        "\n",
        "for sent_l in split_each_sent_words:\n",
        "  removed_stopwords.append([stemmer.stem(word) for word in sent_l if word not in stop_words])\n",
        "\n",
        "removed_stopwords"
      ],
      "execution_count": null,
      "outputs": [
        {
          "output_type": "execute_result",
          "data": {
            "text/plain": [
              "[['I', 'three', 'vision', 'india', '.'],\n",
              " ['In',\n",
              "  '3000',\n",
              "  'year',\n",
              "  'histori',\n",
              "  ',',\n",
              "  'peopl',\n",
              "  'world',\n",
              "  'come',\n",
              "  'invad',\n",
              "  'us',\n",
              "  ',',\n",
              "  'captur',\n",
              "  'land',\n",
              "  ',',\n",
              "  'conquer',\n",
              "  'mind',\n",
              "  '.'],\n",
              " ['from',\n",
              "  'alexand',\n",
              "  'onward',\n",
              "  ',',\n",
              "  'greek',\n",
              "  ',',\n",
              "  'turk',\n",
              "  ',',\n",
              "  'mogul',\n",
              "  ',',\n",
              "  'portugues',\n",
              "  ',',\n",
              "  'british',\n",
              "  ',',\n",
              "  'french',\n",
              "  ',',\n",
              "  'dutch',\n",
              "  ',',\n",
              "  'came',\n",
              "  'loot',\n",
              "  'us',\n",
              "  ',',\n",
              "  'took',\n",
              "  '.'],\n",
              " ['yet', 'done', 'nation', '.'],\n",
              " ['We', 'conquer', 'anyon', '.'],\n",
              " ['We',\n",
              "  'grab',\n",
              "  'land',\n",
              "  ',',\n",
              "  'cultur',\n",
              "  ',',\n",
              "  'histori',\n",
              "  'tri',\n",
              "  'enforc',\n",
              "  'way',\n",
              "  'life',\n",
              "  '.'],\n",
              " ['whi', '?'],\n",
              " ['becaus',\n",
              "  'respect',\n",
              "  'freedom',\n",
              "  'others.that',\n",
              "  'first',\n",
              "  'vision',\n",
              "  'freedom',\n",
              "  '.'],\n",
              " ['I',\n",
              "  'believ',\n",
              "  'india',\n",
              "  'got',\n",
              "  'first',\n",
              "  'vision',\n",
              "  '1857',\n",
              "  ',',\n",
              "  'start',\n",
              "  'war',\n",
              "  'independ',\n",
              "  '.'],\n",
              " ['It', 'freedom', 'must', 'protect', 'nurtur', 'build', '.'],\n",
              " ['If', 'free', ',', 'one', 'respect', 'us', '.'],\n",
              " ['My', 'second', 'vision', 'india', '’', 'develop', '.'],\n",
              " ['for', 'fifti', 'year', 'develop', 'nation', '.'],\n",
              " ['It', 'time', 'see', 'develop', 'nation', '.'],\n",
              " ['We', 'among', 'top', '5', 'nation', 'world', 'term', 'gdp', '.'],\n",
              " ['We', '10', 'percent', 'growth', 'rate', 'area', '.'],\n",
              " ['our', 'poverti', 'level', 'fall', '.'],\n",
              " ['our', 'achiev', 'global', 'recognis', 'today', '.'],\n",
              " ['yet',\n",
              "  'lack',\n",
              "  'self-confid',\n",
              "  'see',\n",
              "  'develop',\n",
              "  'nation',\n",
              "  ',',\n",
              "  'self-reli',\n",
              "  'self-assur',\n",
              "  '.'],\n",
              " ['isn', '’', 'incorrect', '?'],\n",
              " ['I', 'third', 'vision', '.'],\n",
              " ['india', 'must', 'stand', 'world', '.'],\n",
              " ['becaus',\n",
              "  'I',\n",
              "  'believ',\n",
              "  'unless',\n",
              "  'india',\n",
              "  'stand',\n",
              "  'world',\n",
              "  ',',\n",
              "  'one',\n",
              "  'respect',\n",
              "  'us',\n",
              "  '.'],\n",
              " ['onli', 'strength', 'respect', 'strength', '.'],\n",
              " ['We', 'must', 'strong', 'militari', 'power', 'also', 'econom', 'power', '.'],\n",
              " ['both', 'must', 'go', 'hand-in-hand', '.'],\n",
              " ['My', 'good', 'fortun', 'work', 'three', 'great', 'mind', '.'],\n",
              " ['dr.', 'vikram', 'sarabhai', 'dept', '.'],\n",
              " ['space',\n",
              "  ',',\n",
              "  'professor',\n",
              "  'satish',\n",
              "  'dhawan',\n",
              "  ',',\n",
              "  'succeed',\n",
              "  'dr.',\n",
              "  'brahm',\n",
              "  'prakash',\n",
              "  ',',\n",
              "  'father',\n",
              "  'nuclear',\n",
              "  'materi',\n",
              "  '.'],\n",
              " ['I',\n",
              "  'lucki',\n",
              "  'work',\n",
              "  'three',\n",
              "  'close',\n",
              "  'consid',\n",
              "  'great',\n",
              "  'opportun',\n",
              "  'life',\n",
              "  '.'],\n",
              " ['I', 'see', 'four', 'mileston', 'career']]"
            ]
          },
          "metadata": {},
          "execution_count": 19
        }
      ]
    }
  ]
}