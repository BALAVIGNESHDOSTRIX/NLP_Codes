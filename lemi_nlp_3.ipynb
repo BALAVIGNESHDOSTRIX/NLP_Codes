{
  "nbformat": 4,
  "nbformat_minor": 0,
  "metadata": {
    "colab": {
      "name": "lemi_nlp_3.ipynb",
      "provenance": []
    },
    "kernelspec": {
      "name": "python3",
      "display_name": "Python 3"
    },
    "language_info": {
      "name": "python"
    }
  },
  "cells": [
    {
      "cell_type": "code",
      "metadata": {
        "colab": {
          "base_uri": "https://localhost:8080/"
        },
        "id": "sNMk4bsftyg_",
        "outputId": "66408e48-d2f3-4ca5-c5a1-34be183ba394"
      },
      "source": [
        "import nltk\n",
        "from nltk.corpus import stopwords\n",
        "from nltk.stem import WordNetLemmatizer\n",
        "\n",
        "nltk.download('stopwords')\n",
        "nltk.download('punkt')\n",
        "nltk.download('wordnet')"
      ],
      "execution_count": null,
      "outputs": [
        {
          "output_type": "stream",
          "text": [
            "[nltk_data] Downloading package stopwords to /root/nltk_data...\n",
            "[nltk_data]   Package stopwords is already up-to-date!\n",
            "[nltk_data] Downloading package punkt to /root/nltk_data...\n",
            "[nltk_data]   Package punkt is already up-to-date!\n",
            "[nltk_data] Downloading package wordnet to /root/nltk_data...\n",
            "[nltk_data]   Unzipping corpora/wordnet.zip.\n"
          ],
          "name": "stdout"
        },
        {
          "output_type": "execute_result",
          "data": {
            "text/plain": [
              "True"
            ]
          },
          "metadata": {},
          "execution_count": 8
        }
      ]
    },
    {
      "cell_type": "code",
      "metadata": {
        "colab": {
          "base_uri": "https://localhost:8080/"
        },
        "id": "wH7PkfOavkM4",
        "outputId": "0aa92646-cf7c-451c-d4cf-445b3b8068a0"
      },
      "source": [
        "\n",
        "paragraph = \"\"\"I have three visions for India. In 3000 years of our history, people from all over \n",
        "               the world have come and invaded us, captured our lands, conquered our minds. \n",
        "               From Alexander onwards, the Greeks, the Turks, the Moguls, the Portuguese, the British,\n",
        "               the French, the Dutch, all of them came and looted us, took over what was ours. \n",
        "               Yet we have not done this to any other nation. We have not conquered anyone. \n",
        "               We have not grabbed their land, their culture, \n",
        "               their history and tried to enforce our way of life on them. \n",
        "               Why? Because we respect the freedom of others.That is why my \n",
        "               first vision is that of freedom. I believe that India got its first vision of \n",
        "               this in 1857, when we started the War of Independence. It is this freedom that\n",
        "               we must protect and nurture and build on. If we are not free, no one will respect us.\n",
        "               My second vision for India’s development. For fifty years we have been a developing nation.\n",
        "               It is time we see ourselves as a developed nation. We are among the top 5 nations of the world\n",
        "               in terms of GDP. We have a 10 percent growth rate in most areas. Our poverty levels are falling.\n",
        "               Our achievements are being globally recognised today. Yet we lack the self-confidence to\n",
        "               see ourselves as a developed nation, self-reliant and self-assured. Isn’t this incorrect?\n",
        "               I have a third vision. India must stand up to the world. Because I believe that unless India \n",
        "               stands up to the world, no one will respect us. Only strength respects strength. We must be \n",
        "               strong not only as a military power but also as an economic power. Both must go hand-in-hand. \n",
        "               My good fortune was to have worked with three great minds. Dr. Vikram Sarabhai of the Dept. of \n",
        "               space, Professor Satish Dhawan, who succeeded him and Dr. Brahm Prakash, father of nuclear material.\n",
        "               I was lucky to have worked with all three of them closely and consider this the great opportunity of my life. \n",
        "               I see four milestones in my career\"\"\"\n",
        "\n",
        "nltk.download('punkt')\n",
        "sentences = nltk.sent_tokenize(paragraph)"
      ],
      "execution_count": null,
      "outputs": [
        {
          "output_type": "stream",
          "text": [
            "[nltk_data] Downloading package punkt to /root/nltk_data...\n",
            "[nltk_data]   Package punkt is already up-to-date!\n"
          ],
          "name": "stdout"
        }
      ]
    },
    {
      "cell_type": "code",
      "metadata": {
        "colab": {
          "base_uri": "https://localhost:8080/"
        },
        "id": "EPpCkDLwvvjg",
        "outputId": "1ce51f88-f066-4abf-fae3-9d7df934bd2c"
      },
      "source": [
        "split_each_sent_words = [nltk.word_tokenize(sentence) for sentence in sentences]\n",
        "print(split_each_sent_words)"
      ],
      "execution_count": null,
      "outputs": [
        {
          "output_type": "stream",
          "text": [
            "[['I', 'have', 'three', 'visions', 'for', 'India', '.'], ['In', '3000', 'years', 'of', 'our', 'history', ',', 'people', 'from', 'all', 'over', 'the', 'world', 'have', 'come', 'and', 'invaded', 'us', ',', 'captured', 'our', 'lands', ',', 'conquered', 'our', 'minds', '.'], ['From', 'Alexander', 'onwards', ',', 'the', 'Greeks', ',', 'the', 'Turks', ',', 'the', 'Moguls', ',', 'the', 'Portuguese', ',', 'the', 'British', ',', 'the', 'French', ',', 'the', 'Dutch', ',', 'all', 'of', 'them', 'came', 'and', 'looted', 'us', ',', 'took', 'over', 'what', 'was', 'ours', '.'], ['Yet', 'we', 'have', 'not', 'done', 'this', 'to', 'any', 'other', 'nation', '.'], ['We', 'have', 'not', 'conquered', 'anyone', '.'], ['We', 'have', 'not', 'grabbed', 'their', 'land', ',', 'their', 'culture', ',', 'their', 'history', 'and', 'tried', 'to', 'enforce', 'our', 'way', 'of', 'life', 'on', 'them', '.'], ['Why', '?'], ['Because', 'we', 'respect', 'the', 'freedom', 'of', 'others.That', 'is', 'why', 'my', 'first', 'vision', 'is', 'that', 'of', 'freedom', '.'], ['I', 'believe', 'that', 'India', 'got', 'its', 'first', 'vision', 'of', 'this', 'in', '1857', ',', 'when', 'we', 'started', 'the', 'War', 'of', 'Independence', '.'], ['It', 'is', 'this', 'freedom', 'that', 'we', 'must', 'protect', 'and', 'nurture', 'and', 'build', 'on', '.'], ['If', 'we', 'are', 'not', 'free', ',', 'no', 'one', 'will', 'respect', 'us', '.'], ['My', 'second', 'vision', 'for', 'India', '’', 's', 'development', '.'], ['For', 'fifty', 'years', 'we', 'have', 'been', 'a', 'developing', 'nation', '.'], ['It', 'is', 'time', 'we', 'see', 'ourselves', 'as', 'a', 'developed', 'nation', '.'], ['We', 'are', 'among', 'the', 'top', '5', 'nations', 'of', 'the', 'world', 'in', 'terms', 'of', 'GDP', '.'], ['We', 'have', 'a', '10', 'percent', 'growth', 'rate', 'in', 'most', 'areas', '.'], ['Our', 'poverty', 'levels', 'are', 'falling', '.'], ['Our', 'achievements', 'are', 'being', 'globally', 'recognised', 'today', '.'], ['Yet', 'we', 'lack', 'the', 'self-confidence', 'to', 'see', 'ourselves', 'as', 'a', 'developed', 'nation', ',', 'self-reliant', 'and', 'self-assured', '.'], ['Isn', '’', 't', 'this', 'incorrect', '?'], ['I', 'have', 'a', 'third', 'vision', '.'], ['India', 'must', 'stand', 'up', 'to', 'the', 'world', '.'], ['Because', 'I', 'believe', 'that', 'unless', 'India', 'stands', 'up', 'to', 'the', 'world', ',', 'no', 'one', 'will', 'respect', 'us', '.'], ['Only', 'strength', 'respects', 'strength', '.'], ['We', 'must', 'be', 'strong', 'not', 'only', 'as', 'a', 'military', 'power', 'but', 'also', 'as', 'an', 'economic', 'power', '.'], ['Both', 'must', 'go', 'hand-in-hand', '.'], ['My', 'good', 'fortune', 'was', 'to', 'have', 'worked', 'with', 'three', 'great', 'minds', '.'], ['Dr.', 'Vikram', 'Sarabhai', 'of', 'the', 'Dept', '.'], ['of', 'space', ',', 'Professor', 'Satish', 'Dhawan', ',', 'who', 'succeeded', 'him', 'and', 'Dr.', 'Brahm', 'Prakash', ',', 'father', 'of', 'nuclear', 'material', '.'], ['I', 'was', 'lucky', 'to', 'have', 'worked', 'with', 'all', 'three', 'of', 'them', 'closely', 'and', 'consider', 'this', 'the', 'great', 'opportunity', 'of', 'my', 'life', '.'], ['I', 'see', 'four', 'milestones', 'in', 'my', 'career']]\n"
          ],
          "name": "stdout"
        }
      ]
    },
    {
      "cell_type": "code",
      "metadata": {
        "colab": {
          "base_uri": "https://localhost:8080/"
        },
        "id": "39rVJt-cv10k",
        "outputId": "91eb9b01-d13d-4653-e3fe-2401b598f90c"
      },
      "source": [
        "# Filter the stopwords and apply the lemitizer\n",
        "\n",
        "lemmi = WordNetLemmatizer()\n",
        "\n",
        "removed_stopwords = []\n",
        "\n",
        "stop_words = set(stopwords.words('english'))\n",
        "\n",
        "for sent_l in split_each_sent_words:\n",
        "  removed_stopwords.append([lemmi.lemmatize(word) for word in sent_l if word not in stop_words])\n",
        "\n",
        "removed_stopwords"
      ],
      "execution_count": null,
      "outputs": [
        {
          "output_type": "execute_result",
          "data": {
            "text/plain": [
              "[['I', 'three', 'vision', 'India', '.'],\n",
              " ['In',\n",
              "  '3000',\n",
              "  'year',\n",
              "  'history',\n",
              "  ',',\n",
              "  'people',\n",
              "  'world',\n",
              "  'come',\n",
              "  'invaded',\n",
              "  'u',\n",
              "  ',',\n",
              "  'captured',\n",
              "  'land',\n",
              "  ',',\n",
              "  'conquered',\n",
              "  'mind',\n",
              "  '.'],\n",
              " ['From',\n",
              "  'Alexander',\n",
              "  'onwards',\n",
              "  ',',\n",
              "  'Greeks',\n",
              "  ',',\n",
              "  'Turks',\n",
              "  ',',\n",
              "  'Moguls',\n",
              "  ',',\n",
              "  'Portuguese',\n",
              "  ',',\n",
              "  'British',\n",
              "  ',',\n",
              "  'French',\n",
              "  ',',\n",
              "  'Dutch',\n",
              "  ',',\n",
              "  'came',\n",
              "  'looted',\n",
              "  'u',\n",
              "  ',',\n",
              "  'took',\n",
              "  '.'],\n",
              " ['Yet', 'done', 'nation', '.'],\n",
              " ['We', 'conquered', 'anyone', '.'],\n",
              " ['We',\n",
              "  'grabbed',\n",
              "  'land',\n",
              "  ',',\n",
              "  'culture',\n",
              "  ',',\n",
              "  'history',\n",
              "  'tried',\n",
              "  'enforce',\n",
              "  'way',\n",
              "  'life',\n",
              "  '.'],\n",
              " ['Why', '?'],\n",
              " ['Because',\n",
              "  'respect',\n",
              "  'freedom',\n",
              "  'others.That',\n",
              "  'first',\n",
              "  'vision',\n",
              "  'freedom',\n",
              "  '.'],\n",
              " ['I',\n",
              "  'believe',\n",
              "  'India',\n",
              "  'got',\n",
              "  'first',\n",
              "  'vision',\n",
              "  '1857',\n",
              "  ',',\n",
              "  'started',\n",
              "  'War',\n",
              "  'Independence',\n",
              "  '.'],\n",
              " ['It', 'freedom', 'must', 'protect', 'nurture', 'build', '.'],\n",
              " ['If', 'free', ',', 'one', 'respect', 'u', '.'],\n",
              " ['My', 'second', 'vision', 'India', '’', 'development', '.'],\n",
              " ['For', 'fifty', 'year', 'developing', 'nation', '.'],\n",
              " ['It', 'time', 'see', 'developed', 'nation', '.'],\n",
              " ['We', 'among', 'top', '5', 'nation', 'world', 'term', 'GDP', '.'],\n",
              " ['We', '10', 'percent', 'growth', 'rate', 'area', '.'],\n",
              " ['Our', 'poverty', 'level', 'falling', '.'],\n",
              " ['Our', 'achievement', 'globally', 'recognised', 'today', '.'],\n",
              " ['Yet',\n",
              "  'lack',\n",
              "  'self-confidence',\n",
              "  'see',\n",
              "  'developed',\n",
              "  'nation',\n",
              "  ',',\n",
              "  'self-reliant',\n",
              "  'self-assured',\n",
              "  '.'],\n",
              " ['Isn', '’', 'incorrect', '?'],\n",
              " ['I', 'third', 'vision', '.'],\n",
              " ['India', 'must', 'stand', 'world', '.'],\n",
              " ['Because',\n",
              "  'I',\n",
              "  'believe',\n",
              "  'unless',\n",
              "  'India',\n",
              "  'stand',\n",
              "  'world',\n",
              "  ',',\n",
              "  'one',\n",
              "  'respect',\n",
              "  'u',\n",
              "  '.'],\n",
              " ['Only', 'strength', 'respect', 'strength', '.'],\n",
              " ['We',\n",
              "  'must',\n",
              "  'strong',\n",
              "  'military',\n",
              "  'power',\n",
              "  'also',\n",
              "  'economic',\n",
              "  'power',\n",
              "  '.'],\n",
              " ['Both', 'must', 'go', 'hand-in-hand', '.'],\n",
              " ['My', 'good', 'fortune', 'worked', 'three', 'great', 'mind', '.'],\n",
              " ['Dr.', 'Vikram', 'Sarabhai', 'Dept', '.'],\n",
              " ['space',\n",
              "  ',',\n",
              "  'Professor',\n",
              "  'Satish',\n",
              "  'Dhawan',\n",
              "  ',',\n",
              "  'succeeded',\n",
              "  'Dr.',\n",
              "  'Brahm',\n",
              "  'Prakash',\n",
              "  ',',\n",
              "  'father',\n",
              "  'nuclear',\n",
              "  'material',\n",
              "  '.'],\n",
              " ['I',\n",
              "  'lucky',\n",
              "  'worked',\n",
              "  'three',\n",
              "  'closely',\n",
              "  'consider',\n",
              "  'great',\n",
              "  'opportunity',\n",
              "  'life',\n",
              "  '.'],\n",
              " ['I', 'see', 'four', 'milestone', 'career']]"
            ]
          },
          "metadata": {},
          "execution_count": 11
        }
      ]
    },
    {
      "cell_type": "code",
      "metadata": {
        "id": "JXMCucMNwGao"
      },
      "source": [
        ""
      ],
      "execution_count": null,
      "outputs": []
    }
  ]
}