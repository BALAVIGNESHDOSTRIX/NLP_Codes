{
  "nbformat": 4,
  "nbformat_minor": 0,
  "metadata": {
    "colab": {
      "name": "word2vec.ipynb",
      "provenance": [],
      "collapsed_sections": []
    },
    "kernelspec": {
      "name": "python3",
      "display_name": "Python 3"
    },
    "language_info": {
      "name": "python"
    }
  },
  "cells": [
    {
      "cell_type": "code",
      "metadata": {
        "colab": {
          "base_uri": "https://localhost:8080/"
        },
        "id": "ioGR8xQ_H9fX",
        "outputId": "8895056f-8109-488b-db25-35249458ddbe"
      },
      "source": [
        "import nltk\n",
        "nltk.download('punkt')\n",
        "nltk.download('stopwords')\n",
        "nltk.download('wordnet')\n",
        "\n",
        "from nltk.corpus import stopwords\n",
        "from nltk import sent_tokenize, word_tokenize\n",
        "from nltk.stem import PorterStemmer, WordNetLemmatizer\n",
        "import re\n",
        "\n",
        "\n",
        "stop_word_list = stopwords.words('english')\n",
        "\n",
        "paragraph =  \"\"\"I have three visions for India. In 3000 years of our history, people from all over \n",
        "               the world have come and invaded us, captured our lands, conquered our minds. \n",
        "               From Alexander onwards, the Greeks, the Turks, the Moguls, the Portuguese, the British,\n",
        "               the French, the Dutch, all of them came and looted us, took over what was ours. \n",
        "               Yet we have not done this to any other nation. We have not conquered anyone. \n",
        "               We have not grabbed their land, their culture, \n",
        "               their history and tried to enforce our way of life on them. \n",
        "               Why? Because we respect the freedom of others.That is why my \n",
        "               first vision is that of freedom. I believe that India got its first vision of \n",
        "               this in 1857, when we started the War of Independence. It is this freedom that\n",
        "               we must protect and nurture and build on. If we are not free, no one will respect us.\n",
        "               My second vision for India’s development. For fifty years we have been a developing nation.\n",
        "               It is time we see ourselves as a developed nation. We are among the top 5 nations of the world\n",
        "               in terms of GDP. We have a 10 percent growth rate in most areas. Our poverty levels are falling.\n",
        "               Our achievements are being globally recognised today. Yet we lack the self-confidence to\n",
        "               see ourselves as a developed nation, self-reliant and self-assured. Isn’t this incorrect?\n",
        "               I have a third vision. India must stand up to the world. Because I believe that unless India \n",
        "               stands up to the world, no one will respect us. Only strength respects strength. We must be \n",
        "               strong not only as a military power but also as an economic power. Both must go hand-in-hand. \n",
        "               My good fortune was to have worked with three great minds. Dr. Vikram Sarabhai of the Dept. of \n",
        "               space, Professor Satish Dhawan, who succeeded him and Dr. Brahm Prakash, father of nuclear material.\n",
        "               I was lucky to have worked with all three of them closely and consider this the great opportunity of my life. \n",
        "               I see four milestones in my career\"\"\""
      ],
      "execution_count": null,
      "outputs": [
        {
          "output_type": "stream",
          "text": [
            "[nltk_data] Downloading package punkt to /root/nltk_data...\n",
            "[nltk_data]   Unzipping tokenizers/punkt.zip.\n",
            "[nltk_data] Downloading package stopwords to /root/nltk_data...\n",
            "[nltk_data]   Unzipping corpora/stopwords.zip.\n",
            "[nltk_data] Downloading package wordnet to /root/nltk_data...\n",
            "[nltk_data]   Unzipping corpora/wordnet.zip.\n"
          ],
          "name": "stdout"
        }
      ]
    },
    {
      "cell_type": "code",
      "metadata": {
        "id": "gNSJflgFIQRP"
      },
      "source": [
        "sentences = sent_tokenize(paragraph)"
      ],
      "execution_count": null,
      "outputs": []
    },
    {
      "cell_type": "code",
      "metadata": {
        "id": "Z5TWFczaIWC_"
      },
      "source": [
        "# word precporcess\n",
        "\n",
        "def word_preprocess(sentences):\n",
        "  rmse_l = []\n",
        "  for sent in sentences:\n",
        "    text = re.sub(r'\\[[0-9]*\\]',' ',sent)\n",
        "    text = re.sub(r'\\s+',' ',text)\n",
        "    text = text.lower()\n",
        "    text = re.sub(r'\\d',' ',text)\n",
        "    text = re.sub(r'\\s+',' ',text)\n",
        "    sent = word_tokenize(text)\n",
        "    rmse = ' '.join([word for word in sent if word not in stop_word_list])\n",
        "    if rmse:\n",
        "      rmse_l.append(rmse)\n",
        "  return rmse_l\n",
        "\n",
        "\n",
        "rmsent = word_preprocess(sentences)"
      ],
      "execution_count": null,
      "outputs": []
    },
    {
      "cell_type": "code",
      "metadata": {
        "id": "9Elb98UYIYja"
      },
      "source": [
        "from gensim.models import Word2Vec"
      ],
      "execution_count": null,
      "outputs": []
    },
    {
      "cell_type": "code",
      "metadata": {
        "id": "IIR-zZ74IdqE"
      },
      "source": [
        "# Create the Word2Vec Model\n",
        "\n",
        "model = Word2Vec(rmsent, min_count=1)\n",
        "\n",
        "\n",
        "words = model.wv.vocab\n",
        "\n",
        "# Finding the Word vector\n",
        "vector = model.wv[words]\n"
      ],
      "execution_count": null,
      "outputs": []
    },
    {
      "cell_type": "code",
      "metadata": {
        "colab": {
          "base_uri": "https://localhost:8080/"
        },
        "id": "mz7jaAnuIvyh",
        "outputId": "bc2b4d3e-1940-4c9b-e649-a84d744429cf"
      },
      "source": [
        "vector"
      ],
      "execution_count": null,
      "outputs": [
        {
          "output_type": "execute_result",
          "data": {
            "text/plain": [
              "array([[-0.01067444, -0.006055  , -0.00935879, ..., -0.00158499,\n",
              "         0.00277939, -0.00842412],\n",
              "       [ 0.00033389, -0.00626785, -0.00751758, ...,  0.00269826,\n",
              "         0.00140223,  0.00161582],\n",
              "       [-0.00925213, -0.0047477 , -0.00968703, ..., -0.00194709,\n",
              "        -0.00237514, -0.0074089 ],\n",
              "       ...,\n",
              "       [ 0.00411924, -0.00525314,  0.00139831, ...,  0.00269963,\n",
              "        -0.00488411,  0.00352976],\n",
              "       [-0.00529897,  0.00345935,  0.00206956, ...,  0.00222169,\n",
              "         0.00329974,  0.00302412],\n",
              "       [-0.00731607, -0.00365082, -0.00778344, ..., -0.00108183,\n",
              "        -0.00460277, -0.00396739]], dtype=float32)"
            ]
          },
          "metadata": {},
          "execution_count": 18
        }
      ]
    },
    {
      "cell_type": "code",
      "metadata": {
        "colab": {
          "base_uri": "https://localhost:8080/"
        },
        "id": "wdn-rLcHJRPm",
        "outputId": "79085605-65f8-4e5f-f50b-c3eb08d35b61"
      },
      "source": [
        "# # Most similar words\n",
        "# similar = model.wv.most_similar('history')\n",
        "\n",
        "words"
      ],
      "execution_count": null,
      "outputs": [
        {
          "output_type": "execute_result",
          "data": {
            "text/plain": [
              "{' ': <gensim.models.keyedvectors.Vocab at 0x7fa093c7d0d0>,\n",
              " ',': <gensim.models.keyedvectors.Vocab at 0x7fa093c7d790>,\n",
              " '-': <gensim.models.keyedvectors.Vocab at 0x7fa0934311d0>,\n",
              " '.': <gensim.models.keyedvectors.Vocab at 0x7fa093c7d110>,\n",
              " '?': <gensim.models.keyedvectors.Vocab at 0x7fa093431150>,\n",
              " 'a': <gensim.models.keyedvectors.Vocab at 0x7fa093c7d810>,\n",
              " 'b': <gensim.models.keyedvectors.Vocab at 0x7fa0934310d0>,\n",
              " 'c': <gensim.models.keyedvectors.Vocab at 0x7fa093c7d710>,\n",
              " 'd': <gensim.models.keyedvectors.Vocab at 0x7fa093c7dc10>,\n",
              " 'e': <gensim.models.keyedvectors.Vocab at 0x7fa093c7d250>,\n",
              " 'f': <gensim.models.keyedvectors.Vocab at 0x7fa093431110>,\n",
              " 'g': <gensim.models.keyedvectors.Vocab at 0x7fa093431050>,\n",
              " 'h': <gensim.models.keyedvectors.Vocab at 0x7fa093c7de50>,\n",
              " 'i': <gensim.models.keyedvectors.Vocab at 0x7fa093c7dd90>,\n",
              " 'k': <gensim.models.keyedvectors.Vocab at 0x7fa093431090>,\n",
              " 'l': <gensim.models.keyedvectors.Vocab at 0x7fa093c7d9d0>,\n",
              " 'm': <gensim.models.keyedvectors.Vocab at 0x7fa093c7d890>,\n",
              " 'n': <gensim.models.keyedvectors.Vocab at 0x7fa093c7d150>,\n",
              " 'o': <gensim.models.keyedvectors.Vocab at 0x7fa093c7d610>,\n",
              " 'p': <gensim.models.keyedvectors.Vocab at 0x7fa093c7d8d0>,\n",
              " 'q': <gensim.models.keyedvectors.Vocab at 0x7fa093c7d1d0>,\n",
              " 'r': <gensim.models.keyedvectors.Vocab at 0x7fa093c7d590>,\n",
              " 's': <gensim.models.keyedvectors.Vocab at 0x7fa093c7d490>,\n",
              " 't': <gensim.models.keyedvectors.Vocab at 0x7fa093c7d5d0>,\n",
              " 'u': <gensim.models.keyedvectors.Vocab at 0x7fa093c7dc50>,\n",
              " 'v': <gensim.models.keyedvectors.Vocab at 0x7fa093c7d350>,\n",
              " 'w': <gensim.models.keyedvectors.Vocab at 0x7fa093c7de90>,\n",
              " 'x': <gensim.models.keyedvectors.Vocab at 0x7fa093c7dc90>,\n",
              " 'y': <gensim.models.keyedvectors.Vocab at 0x7fa093c7d3d0>,\n",
              " '’': <gensim.models.keyedvectors.Vocab at 0x7fa093431190>}"
            ]
          },
          "metadata": {},
          "execution_count": 20
        }
      ]
    }
  ]
}